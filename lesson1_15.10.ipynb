{
 "cells": [
  {
   "cell_type": "markdown",
   "id": "11c0865e-d822-4743-9f19-98928a9b3689",
   "metadata": {},
   "source": [
    "**Тема “Вычисления с помощью Numpy”**\n",
    "Задание 1\n",
    "Импортируйте библиотеку Numpy и дайте ей псевдоним np.\n",
    "Создайте массив Numpy под названием a размером 5x2, то есть состоящий из 5 строк и 2 столбцов. Первый столбец должен содержать числа 1, 2, 3, 3, 1, а второй - числа 6, 8, 11, 10, 7. Будем считать, что каждый столбец - это признак, а строка - наблюдение. Затем найдите среднее значение по каждому признаку, используя метод mean массива Numpy. Результат запишите в массив mean_a, в нем должно быть 2 элемента.\n",
    "Задание 2\n",
    "Вычислите массив a_centered, отняв от значений массива “а” средние значения соответствующих признаков, содержащиеся в массиве mean_a. Вычисление должно производиться в одно действие. Получившийся массив должен иметь размер 5x2.\n",
    "Задание 3\n",
    "Найдите скалярное произведение столбцов массива a_centered. В результате должна получиться величина a_centered_sp. Затем поделите a_centered_sp на N-1, где N - число наблюдений.\n",
    "Задание 4**\n",
    "Число, которое мы получили в конце задания 3 является ковариацией двух признаков, содержащихся в массиве “а”. В задании 4 мы делили сумму произведений центрированных признаков на N-1, а не на N, поэтому полученная нами величина является несмещенной оценкой ковариации.\n",
    "Подробнее узнать о ковариации можно здесь:\n",
    "Выборочная ковариация и выборочная дисперсия — Студопедия\n",
    "В этом задании проверьте получившееся число, вычислив ковариацию еще одним способом - с помощью функции np.cov. В качестве аргумента m функция np.cov должна принимать транспонированный массив “a”. В получившейся ковариационной матрице (массив Numpy размером 2x2) искомое значение ковариации будет равно элементу в строке с индексом 0 и столбце с индексом 1.\n"
   ]
  },
  {
   "cell_type": "code",
   "execution_count": 2,
   "id": "ef5d5962-8162-494a-8abb-bd98ff2fd63b",
   "metadata": {},
   "outputs": [],
   "source": [
    "import numpy as np"
   ]
  },
  {
   "cell_type": "markdown",
   "id": "ac6beacf-e614-4357-aa73-1f1127db6df7",
   "metadata": {},
   "source": [
    "Задание 1"
   ]
  },
  {
   "cell_type": "code",
   "execution_count": 9,
   "id": "2629238e-301a-429b-ac87-47eaf6521a2f",
   "metadata": {},
   "outputs": [
    {
     "name": "stdout",
     "output_type": "stream",
     "text": [
      "[[ 1  6]\n",
      " [ 2  8]\n",
      " [ 3 11]\n",
      " [ 3 10]\n",
      " [ 1  7]]\n"
     ]
    }
   ],
   "source": [
    "Numpy=np.transpose(np.array([[1, 2, 3, 3, 1],[6, 8, 11, 10, 7]]))\n",
    "print(Numpy)"
   ]
  },
  {
   "cell_type": "code",
   "execution_count": 10,
   "id": "fa04187e-18d5-41ed-b66b-207182ab1db3",
   "metadata": {},
   "outputs": [
    {
     "name": "stdout",
     "output_type": "stream",
     "text": [
      "[2.  8.4]\n"
     ]
    }
   ],
   "source": [
    "mean_a=np.mean(Numpy,axis=0)\n",
    "print(mean_a)"
   ]
  },
  {
   "cell_type": "markdown",
   "id": "14d7e49b-5d38-4524-9ecc-85bf0157dc7c",
   "metadata": {},
   "source": [
    "Задание 2"
   ]
  },
  {
   "cell_type": "code",
   "execution_count": 11,
   "id": "ffb719d4-6c33-457c-a1b8-11944241ac26",
   "metadata": {},
   "outputs": [
    {
     "name": "stdout",
     "output_type": "stream",
     "text": [
      "[[-1.  -2.4]\n",
      " [ 0.  -0.4]\n",
      " [ 1.   2.6]\n",
      " [ 1.   1.6]\n",
      " [-1.  -1.4]]\n"
     ]
    }
   ],
   "source": [
    "a_centered= Numpy -mean_a\n",
    "print(a_centered)"
   ]
  },
  {
   "cell_type": "markdown",
   "id": "8186e10b-a1ea-4ad2-9367-cc6459728e5a",
   "metadata": {},
   "source": [
    "Задание 3"
   ]
  },
  {
   "cell_type": "code",
   "execution_count": 17,
   "id": "a435de1b-c8e1-46db-9c19-793395ed322c",
   "metadata": {},
   "outputs": [
    {
     "name": "stdout",
     "output_type": "stream",
     "text": [
      "2.0\n"
     ]
    }
   ],
   "source": [
    "a_centered_sp =np.dot(a_centered[:,0],a_centered[:,1])\n",
    "print(a_centered_sp/(np.shape(a_centered)[0]-1))"
   ]
  },
  {
   "cell_type": "markdown",
   "id": "89b527ab-579a-42b4-b665-0b63758143df",
   "metadata": {},
   "source": [
    "Задание 4**"
   ]
  },
  {
   "cell_type": "code",
   "execution_count": 18,
   "id": "ee214707-c713-47d1-a189-7eb4af707c45",
   "metadata": {},
   "outputs": [
    {
     "name": "stdout",
     "output_type": "stream",
     "text": [
      "[[1.  2. ]\n",
      " [2.  4.3]]\n"
     ]
    }
   ],
   "source": [
    "cov=np.cov(Numpy.T)\n",
    "print(cov)"
   ]
  },
  {
   "cell_type": "markdown",
   "id": "f9ab37ec-d6fb-49aa-bd20-da2b10d4c811",
   "metadata": {},
   "source": [
    "**Тема “Работа с данными в Pandas”**\n",
    "Задание 1\n",
    "Импортируйте библиотеку Pandas и дайте ей псевдоним pd. Создайте датафрейм authors со столбцами author_id и author_name, в которых соответственно содержатся данные: [1, 2, 3] и ['Тургенев', 'Чехов', 'Островский'].\n",
    "Затем создайте датафрейм book cо столбцами author_id, book_title и price, в которых соответственно содержатся данные:  \n",
    "[1, 1, 1, 2, 2, 3, 3],\n",
    "['Отцы и дети', 'Рудин', 'Дворянское гнездо', 'Толстый и тонкий', 'Дама с собачкой', 'Гроза', 'Таланты и поклонники'],\n",
    "[450, 300, 350, 500, 450, 370, 290].\n",
    "Задание 2\n",
    "Получите датафрейм authors_price, соединив датафреймы authors и books по полю author_id.\n",
    "Задание 3\n",
    "Создайте датафрейм top5, в котором содержатся строки из authors_price с пятью самыми дорогими книгами.\n",
    "Задание 4\n",
    "Создайте датафрейм authors_stat на основе информации из authors_price. В датафрейме authors_stat должны быть четыре столбца:\n",
    "author_name, min_price, max_price и mean_price,\n",
    "в которых должны содержаться соответственно имя автора, минимальная, максимальная и средняя цена на книги этого автора.\n",
    "Задание 5**\n",
    "Создайте новый столбец в датафрейме authors_price под названием cover, в нем будут располагаться данные о том, какая обложка у данной книги - твердая или мягкая. В этот столбец поместите данные из следующего списка:\n",
    "['твердая', 'мягкая', 'мягкая', 'твердая', 'твердая', 'мягкая', 'мягкая'].\n",
    "Просмотрите документацию по функции pd.pivot_table с помощью вопросительного знака.Для каждого автора посчитайте суммарную стоимость книг в твердой и мягкой обложке. Используйте для этого функцию pd.pivot_table. При этом столбцы должны называться \"твердая\" и \"мягкая\", а индексами должны быть фамилии авторов. Пропущенные значения стоимостей заполните нулями, при необходимости загрузите библиотеку Numpy.\n",
    "Назовите полученный датасет book_info и сохраните его в формат pickle под названием \"book_info.pkl\". Затем загрузите из этого файла датафрейм и назовите его book_info2. Удостоверьтесь, что датафреймы book_info и book_info2 идентичны.\n",
    "\n"
   ]
  },
  {
   "cell_type": "code",
   "execution_count": 20,
   "id": "dadc5250-da03-4209-906f-8bc1ffd713f3",
   "metadata": {},
   "outputs": [],
   "source": [
    "import pandas as pd"
   ]
  },
  {
   "cell_type": "code",
   "execution_count": 28,
   "id": "12c7e27a-0ce9-4e3a-a317-b1ebda5d53a9",
   "metadata": {},
   "outputs": [
    {
     "name": "stdout",
     "output_type": "stream",
     "text": [
      "  author_id author_name\n",
      "0         1    Тургенев\n",
      "1         2       Чехов\n",
      "2         3  Островский\n"
     ]
    }
   ],
   "source": [
    "authors=pd.DataFrame(np.array([[1, 2, 3], ['Тургенев', 'Чехов', 'Островский']]).T, columns=['author_id', 'author_name'])\n",
    "print(authors)\n"
   ]
  },
  {
   "cell_type": "code",
   "execution_count": 29,
   "id": "6f87ca58-4f22-4a10-bb5e-771e04c7838c",
   "metadata": {},
   "outputs": [
    {
     "name": "stdout",
     "output_type": "stream",
     "text": [
      "  author_id            book_title price\n",
      "0         1           Отцы и дети   450\n",
      "1         1                 Рудин   300\n",
      "2         1     Дворянское гнездо   350\n",
      "3         2      Толстый и тонкий   500\n",
      "4         2       Дама с собачкой   450\n",
      "5         3                 Гроза   370\n",
      "6         3  Таланты и поклонники   290\n"
     ]
    }
   ],
   "source": [
    "book=pd.DataFrame(np.array([[1, 1, 1, 2, 2, 3, 3], ['Отцы и дети', 'Рудин', 'Дворянское гнездо', 'Толстый и тонкий', 'Дама с собачкой', 'Гроза', 'Таланты и поклонники'],\n",
    "[450, 300, 350, 500, 450, 370, 290]]).T, columns=['author_id', 'book_title','price'])\n",
    "print(book)"
   ]
  },
  {
   "cell_type": "markdown",
   "id": "48c6c231-ab77-4ff7-b5bd-78dad3ce45ea",
   "metadata": {},
   "source": [
    "Задание 2"
   ]
  },
  {
   "cell_type": "code",
   "execution_count": 32,
   "id": "fe7dd8d9-f200-48d2-9649-ba7935019b95",
   "metadata": {},
   "outputs": [
    {
     "name": "stdout",
     "output_type": "stream",
     "text": [
      "  author_id author_name            book_title price\n",
      "0         1    Тургенев           Отцы и дети   450\n",
      "1         1    Тургенев                 Рудин   300\n",
      "2         1    Тургенев     Дворянское гнездо   350\n",
      "3         2       Чехов      Толстый и тонкий   500\n",
      "4         2       Чехов       Дама с собачкой   450\n",
      "5         3  Островский                 Гроза   370\n",
      "6         3  Островский  Таланты и поклонники   290\n"
     ]
    }
   ],
   "source": [
    "authors_price = pd.merge(authors,book, how='inner',on=['author_id'])\n",
    "print(authors_price)"
   ]
  },
  {
   "cell_type": "markdown",
   "id": "0de2bd70-741f-44e6-8baf-525e44de92e5",
   "metadata": {},
   "source": [
    "Задание 3"
   ]
  },
  {
   "cell_type": "code",
   "execution_count": 47,
   "id": "bba627fe-5625-48dd-a640-2bdd9ca31d7b",
   "metadata": {},
   "outputs": [
    {
     "name": "stdout",
     "output_type": "stream",
     "text": [
      "  author_id author_name        book_title price\n",
      "3         2       Чехов  Толстый и тонкий   500\n",
      "0         1    Тургенев       Отцы и дети   450\n",
      "4         2       Чехов   Дама с собачкой   450\n",
      "5         3  Островский             Гроза   370\n"
     ]
    }
   ],
   "source": [
    "top5=authors_price.sort_values(by='price',ascending=False)\n",
    "print(top5.iloc[0:4])"
   ]
  },
  {
   "cell_type": "markdown",
   "id": "981743c5-045f-4663-b808-efc0809adc13",
   "metadata": {},
   "source": [
    "Задание 4"
   ]
  },
  {
   "cell_type": "code",
   "execution_count": 49,
   "id": "10cc7ea2-5cba-44bb-8d4e-5b383fa431c3",
   "metadata": {},
   "outputs": [
    {
     "name": "stdout",
     "output_type": "stream",
     "text": [
      "author_id                     3\n",
      "author_name               Чехов\n",
      "book_title     Толстый и тонкий\n",
      "price                       500\n",
      "dtype: object\n"
     ]
    }
   ],
   "source": [
    "authors_stat=authors_price.max()\n",
    "print(authors_stat)"
   ]
  },
  {
   "cell_type": "code",
   "execution_count": 112,
   "id": "9641a7a4-5b3d-4499-9db2-731e9e00ef98",
   "metadata": {},
   "outputs": [
    {
     "name": "stdout",
     "output_type": "stream",
     "text": [
      "          author_name\n",
      "author_id            \n",
      "1            Тургенев\n",
      "2               Чехов\n",
      "3          Островский\n",
      "          autors_min\n",
      "author_id           \n",
      "1                300\n",
      "2                450\n",
      "3                290\n",
      "          autors_max\n",
      "author_id           \n",
      "1                450\n",
      "2                500\n",
      "3                370\n",
      "           autors_mean\n",
      "author_id             \n",
      "1                350.0\n",
      "2                475.0\n",
      "3                330.0\n",
      "          autors_min autors_max  autors_mean author_name\n",
      "author_id                                               \n",
      "1                300        450        350.0    Тургенев\n",
      "2                450        500        475.0       Чехов\n",
      "3                290        370        330.0  Островский\n"
     ]
    }
   ],
   "source": [
    "autors_min=authors_price[['author_id', 'price']].groupby(by='author_id').min().set_axis(['autors_min'], axis=1, inplace=False)\n",
    "autors_max=authors_price[['author_id', 'price']].groupby(by='author_id').max().set_axis(['autors_max'], axis=1, inplace=False)\n",
    "autors_mean=authors_price[['author_id', 'price']].groupby(by='author_id').median().set_axis(['autors_mean'], axis=1, inplace=False)\n",
    "autors_name=authors_price[['author_id', 'author_name']].groupby(by='author_id').min()\n",
    "print(autors_name)\n",
    "authors_stat= pd.merge(pd.merge(pd.merge(autors_min,autors_max,how='inner',on=['author_id']),autors_mean,how='inner',on=['author_id']),autors_name,how='inner',on=['author_id'])\n",
    "print(autors_min)\n",
    "print(autors_max)\n",
    "print(autors_mean)\n",
    "print(authors_stat)"
   ]
  },
  {
   "cell_type": "markdown",
   "id": "4f6a2d05-2a43-456a-b82a-bc82e60a99b4",
   "metadata": {},
   "source": [
    "Задание 5**"
   ]
  },
  {
   "cell_type": "code",
   "execution_count": 113,
   "id": "5ca2c0b8-c00e-4d61-996b-4980b1f56ea3",
   "metadata": {},
   "outputs": [
    {
     "name": "stdout",
     "output_type": "stream",
     "text": [
      "  author_id author_name            book_title price    cover\n",
      "0         1    Тургенев           Отцы и дети   450  твердая\n",
      "1         1    Тургенев                 Рудин   300   мягкая\n",
      "2         1    Тургенев     Дворянское гнездо   350   мягкая\n",
      "3         2       Чехов      Толстый и тонкий   500  твердая\n",
      "4         2       Чехов       Дама с собачкой   450  твердая\n",
      "5         3  Островский                 Гроза   370   мягкая\n",
      "6         3  Островский  Таланты и поклонники   290   мягкая\n"
     ]
    }
   ],
   "source": [
    "authors_price['cover']=['твердая', 'мягкая', 'мягкая', 'твердая', 'твердая', 'мягкая', 'мягкая']\n",
    "print(authors_price)"
   ]
  },
  {
   "cell_type": "code",
   "execution_count": 116,
   "id": "2422c8aa-26be-43b5-98d4-ed5e80f2b52d",
   "metadata": {},
   "outputs": [
    {
     "name": "stdout",
     "output_type": "stream",
     "text": [
      "cover        мягкая твердая\n",
      "author_name                \n",
      "Островский   370290       0\n",
      "Тургенев     300350     450\n",
      "Чехов             0  500450\n"
     ]
    }
   ],
   "source": [
    "book_info=pd.pivot_table(authors_price, values='price', index=['author_name'],\n",
    "                    columns=['cover'], aggfunc=np.sum,fill_value=0)\n",
    "print(book_info)"
   ]
  },
  {
   "cell_type": "code",
   "execution_count": 124,
   "id": "a940516f-03c6-4113-a44c-98033f212f7e",
   "metadata": {},
   "outputs": [
    {
     "name": "stdout",
     "output_type": "stream",
     "text": [
      "cover        мягкая твердая\n",
      "author_name                \n",
      "Островский   370290       0\n",
      "Тургенев     300350     450\n",
      "Чехов             0  500450\n",
      "True\n"
     ]
    }
   ],
   "source": [
    "book_info.to_pickle(\"./book_info.pkl\") \n",
    "book_info2 = pd.read_pickle(\"./book_info.pkl\") \n",
    "print(book_info2)\n",
    "print(book_info.equals(book_info2))"
   ]
  }
 ],
 "metadata": {
  "kernelspec": {
   "display_name": "Python 3 (ipykernel)",
   "language": "python",
   "name": "python3"
  },
  "language_info": {
   "codemirror_mode": {
    "name": "ipython",
    "version": 3
   },
   "file_extension": ".py",
   "mimetype": "text/x-python",
   "name": "python",
   "nbconvert_exporter": "python",
   "pygments_lexer": "ipython3",
   "version": "3.9.12"
  }
 },
 "nbformat": 4,
 "nbformat_minor": 5
}
