{
 "cells": [
  {
   "cell_type": "markdown",
   "id": "0dd0c628-6eda-4ff7-9cfc-3ff734d718ad",
   "metadata": {},
   "source": [
    "Курсовой проект для курса \"Python для Data Science\"\n",
    "\n",
    "Материалы к проекту (файлы):\n",
    "train.csv\n",
    "test.csv\n",
    "\n",
    "Задание:\n",
    "Используя данные из train.csv, построить\n",
    "модель для предсказания цен на недвижимость (квартиры).\n",
    "С помощью полученной модели предсказать\n",
    "цены для квартир из файла test.csv.\n",
    "\n",
    "Целевая переменная:\n",
    "Price\n",
    "\n",
    "Метрика:\n",
    "R2 - коэффициент детерминации (sklearn.metrics.r2_score)\n",
    "\n",
    "Сдача проекта:\n",
    "1. Прислать в раздел Задания Урока 10 (\"Вебинар. Консультация по итоговому проекту\")\n",
    "ссылку на программу в github (программа должна содержаться в файле Jupyter Notebook \n",
    "с расширением ipynb). (Pull request не нужен, только ссылка ведущая на сам скрипт).\n",
    "2. Приложить файл с названием по образцу SShirkin_predictions.csv\n",
    "с предсказанными ценами для квартир из test.csv (файл должен содержать два поля: Id, Price).\n",
    "В файле с предсказаниями должна быть 5001 строка (шапка + 5000 предсказаний).\n",
    "\n",
    "Сроки и условия сдачи:\n",
    "Дедлайн: сдать проект нужно в течение 72 часов после начала Урока 10 (\"Вебинар. Консультация по итоговому проекту\").\n",
    "Для успешной сдачи должны быть все предсказания (для 5000 квартир) и R2 должен быть больше 0.6.\n",
    "При сдаче до дедлайна результат проекта может попасть в топ лучших результатов.\n",
    "Повторная сдача и проверка результатов возможны только при условии предыдущей неуспешной сдачи.\n",
    "Успешный проект нельзя пересдать в целях повышения результата.\n",
    "Проекты, сданные после дедлайна или сданные повторно, не попадают в топ лучших результатов, но можно узнать результат.\n",
    "В качестве итогового результата берется первый успешный результат, последующие успешные результаты не учитываются.\n",
    "\n",
    "Примечание:\n",
    "Все файлы csv должны содержать названия полей (header - то есть \"шапку\"),\n",
    "разделитель - запятая. В файлах не должны содержаться индексы из датафрейма.\n",
    "\n",
    "Рекомендации для файла с кодом (ipynb):\n",
    "1. Файл должен содержать заголовки и комментарии\n",
    "2. Повторяющиеся операции лучше оформлять в виде функций\n",
    "3. Не делать вывод большого количества строк таблиц (5-10 достаточно)\n",
    "4. По возможности добавлять графики, описывающие данные (около 3-5)\n",
    "5. Добавлять только лучшую модель, то есть не включать в код все варианты решения проекта\n",
    "6. Скрипт проекта должен отрабатывать от начала и до конца (от загрузки данных до выгрузки предсказаний)\n",
    "7. Весь проект должен быть в одном скрипте (файл ipynb).\n",
    "8. При использовании статистик (среднее, медиана и т.д.) в качестве признаков,\n",
    "лучше считать их на трейне, и потом на валидационных и тестовых данных не считать \n",
    "статистики заново, а брать их с трейна. Если хватает знаний, можно использовать кросс-валидацию,\n",
    "но для сдачи этого проекта достаточно разбить данные из train.csv на train и valid.\n",
    "9. Проект должен полностью отрабатывать за разумное время (не больше 10 минут),\n",
    "поэтому в финальный вариант лучше не включать GridSearch с перебором \n",
    "большого количества сочетаний параметров.\n",
    "10. Допускается применение библиотек Python и моделей машинного обучения,\n",
    "которые были в курсе Python для Data Science. Градиентный бустинг изучается\n",
    "в последующих курсах, поэтому в этом проекте его применять не следует.\n",
    "Самая сложная из допустимых моделей - RandomForestRegressor из sklearn.\n",
    "\n",
    "\n",
    "\n",
    "\n",
    "\n"
   ]
  },
  {
   "cell_type": "code",
   "execution_count": 498,
   "id": "0e660e15-e4a1-4238-a72e-b545933d2bda",
   "metadata": {},
   "outputs": [],
   "source": [
    "import numpy as np\n",
    "import pandas as pd\n",
    "import pickle as pkl\n",
    "from sklearn.linear_model import LinearRegression\n",
    "from sklearn.ensemble import RandomForestRegressor, GradientBoostingRegressor\n",
    "from sklearn.ensemble import RandomForestClassifier\n",
    "from sklearn.model_selection import GridSearchCV, KFold\n",
    "from sklearn.model_selection import train_test_split\n",
    "from sklearn.metrics import r2_score, mean_absolute_error,mean_squared_error\n",
    "from sklearn.preprocessing import StandardScaler\n",
    "import matplotlib\n",
    "import matplotlib.pyplot as plt\n",
    "import seaborn as sea\n",
    "%matplotlib inline"
   ]
  },
  {
   "cell_type": "code",
   "execution_count": 499,
   "id": "f88c3290-461a-4b6e-83cd-af9a1abc627a",
   "metadata": {},
   "outputs": [],
   "source": [
    "train=pd.read_csv('train.csv')\n",
    "test=pd.read_csv('test.csv')\n",
    "union_df = pd.concat([train, test])"
   ]
  },
  {
   "cell_type": "code",
   "execution_count": 500,
   "id": "99f15de4-a417-4d11-8e87-8583daa7f50d",
   "metadata": {},
   "outputs": [
    {
     "data": {
      "text/plain": [
       "Index(['Id', 'DistrictId', 'Rooms', 'Square', 'LifeSquare', 'KitchenSquare',\n",
       "       'Floor', 'HouseFloor', 'HouseYear', 'Ecology_1', 'Ecology_2',\n",
       "       'Ecology_3', 'Social_1', 'Social_2', 'Social_3', 'Healthcare_1',\n",
       "       'Helthcare_2', 'Shops_1', 'Shops_2', 'Price'],\n",
       "      dtype='object')"
      ]
     },
     "execution_count": 500,
     "metadata": {},
     "output_type": "execute_result"
    }
   ],
   "source": [
    "union_df.keys()"
   ]
  },
  {
   "cell_type": "code",
   "execution_count": 501,
   "id": "349b0f01-3034-4a06-8986-aa63b042bccf",
   "metadata": {},
   "outputs": [
    {
     "name": "stdout",
     "output_type": "stream",
     "text": [
      "<class 'pandas.core.frame.DataFrame'>\n",
      "RangeIndex: 10000 entries, 0 to 9999\n",
      "Data columns (total 20 columns):\n",
      " #   Column         Non-Null Count  Dtype  \n",
      "---  ------         --------------  -----  \n",
      " 0   Id             10000 non-null  int64  \n",
      " 1   DistrictId     10000 non-null  int64  \n",
      " 2   Rooms          10000 non-null  float64\n",
      " 3   Square         10000 non-null  float64\n",
      " 4   LifeSquare     7887 non-null   float64\n",
      " 5   KitchenSquare  10000 non-null  float64\n",
      " 6   Floor          10000 non-null  int64  \n",
      " 7   HouseFloor     10000 non-null  float64\n",
      " 8   HouseYear      10000 non-null  int64  \n",
      " 9   Ecology_1      10000 non-null  float64\n",
      " 10  Ecology_2      10000 non-null  object \n",
      " 11  Ecology_3      10000 non-null  object \n",
      " 12  Social_1       10000 non-null  int64  \n",
      " 13  Social_2       10000 non-null  int64  \n",
      " 14  Social_3       10000 non-null  int64  \n",
      " 15  Healthcare_1   5202 non-null   float64\n",
      " 16  Helthcare_2    10000 non-null  int64  \n",
      " 17  Shops_1        10000 non-null  int64  \n",
      " 18  Shops_2        10000 non-null  object \n",
      " 19  Price          10000 non-null  float64\n",
      "dtypes: float64(8), int64(9), object(3)\n",
      "memory usage: 1.5+ MB\n"
     ]
    }
   ],
   "source": [
    "train.info()"
   ]
  },
  {
   "cell_type": "markdown",
   "id": "3939a069-1c1b-4cf6-958a-7e5630ca969a",
   "metadata": {},
   "source": [
    "Категориальные признаки переводим в числовые"
   ]
  },
  {
   "cell_type": "code",
   "execution_count": 502,
   "id": "47e0c12a-bc2d-40ba-95f4-e59958a6de39",
   "metadata": {},
   "outputs": [],
   "source": [
    "d = {'A' : 0, 'B' : 1}\n",
    "# train[['Ecology_2','Ecology_3','Shops_2']] = train[['Ecology_2','Ecology_3','Shops_2']].map(d)\n",
    "train['Ecology_2'] = train['Ecology_2'].map(d)\n",
    "train['Ecology_3'] = train['Ecology_3'].map(d)\n",
    "train['Shops_2'] = train['Shops_2'].map(d)\n",
    "test['Ecology_2'] = test['Ecology_2'].map(d)\n",
    "test['Ecology_3'] = test['Ecology_3'].map(d)\n",
    "test['Shops_2'] = test['Shops_2'].map(d)"
   ]
  },
  {
   "cell_type": "code",
   "execution_count": 503,
   "id": "4ea6b8a9-2c36-4d1c-a421-c647cf5b3812",
   "metadata": {},
   "outputs": [
    {
     "data": {
      "text/html": [
       "<div>\n",
       "<style scoped>\n",
       "    .dataframe tbody tr th:only-of-type {\n",
       "        vertical-align: middle;\n",
       "    }\n",
       "\n",
       "    .dataframe tbody tr th {\n",
       "        vertical-align: top;\n",
       "    }\n",
       "\n",
       "    .dataframe thead th {\n",
       "        text-align: right;\n",
       "    }\n",
       "</style>\n",
       "<table border=\"1\" class=\"dataframe\">\n",
       "  <thead>\n",
       "    <tr style=\"text-align: right;\">\n",
       "      <th></th>\n",
       "      <th>Id</th>\n",
       "      <th>DistrictId</th>\n",
       "      <th>Rooms</th>\n",
       "      <th>Square</th>\n",
       "      <th>LifeSquare</th>\n",
       "      <th>KitchenSquare</th>\n",
       "      <th>Floor</th>\n",
       "      <th>HouseFloor</th>\n",
       "      <th>HouseYear</th>\n",
       "      <th>Ecology_1</th>\n",
       "      <th>Ecology_2</th>\n",
       "      <th>Ecology_3</th>\n",
       "      <th>Social_1</th>\n",
       "      <th>Social_2</th>\n",
       "      <th>Social_3</th>\n",
       "      <th>Healthcare_1</th>\n",
       "      <th>Helthcare_2</th>\n",
       "      <th>Shops_1</th>\n",
       "      <th>Shops_2</th>\n",
       "      <th>Price</th>\n",
       "    </tr>\n",
       "  </thead>\n",
       "  <tbody>\n",
       "    <tr>\n",
       "      <th>0</th>\n",
       "      <td>14038</td>\n",
       "      <td>35</td>\n",
       "      <td>2.0</td>\n",
       "      <td>47.981561</td>\n",
       "      <td>29.442751</td>\n",
       "      <td>6.0</td>\n",
       "      <td>7</td>\n",
       "      <td>9.0</td>\n",
       "      <td>1969</td>\n",
       "      <td>0.089040</td>\n",
       "      <td>1</td>\n",
       "      <td>1</td>\n",
       "      <td>33</td>\n",
       "      <td>7976</td>\n",
       "      <td>5</td>\n",
       "      <td>NaN</td>\n",
       "      <td>0</td>\n",
       "      <td>11</td>\n",
       "      <td>1</td>\n",
       "      <td>184966.930730</td>\n",
       "    </tr>\n",
       "    <tr>\n",
       "      <th>1</th>\n",
       "      <td>15053</td>\n",
       "      <td>41</td>\n",
       "      <td>3.0</td>\n",
       "      <td>65.683640</td>\n",
       "      <td>40.049543</td>\n",
       "      <td>8.0</td>\n",
       "      <td>7</td>\n",
       "      <td>9.0</td>\n",
       "      <td>1978</td>\n",
       "      <td>0.000070</td>\n",
       "      <td>1</td>\n",
       "      <td>1</td>\n",
       "      <td>46</td>\n",
       "      <td>10309</td>\n",
       "      <td>1</td>\n",
       "      <td>240.0</td>\n",
       "      <td>1</td>\n",
       "      <td>16</td>\n",
       "      <td>1</td>\n",
       "      <td>300009.450063</td>\n",
       "    </tr>\n",
       "    <tr>\n",
       "      <th>2</th>\n",
       "      <td>4765</td>\n",
       "      <td>53</td>\n",
       "      <td>2.0</td>\n",
       "      <td>44.947953</td>\n",
       "      <td>29.197612</td>\n",
       "      <td>0.0</td>\n",
       "      <td>8</td>\n",
       "      <td>12.0</td>\n",
       "      <td>1968</td>\n",
       "      <td>0.049637</td>\n",
       "      <td>1</td>\n",
       "      <td>1</td>\n",
       "      <td>34</td>\n",
       "      <td>7759</td>\n",
       "      <td>0</td>\n",
       "      <td>229.0</td>\n",
       "      <td>1</td>\n",
       "      <td>3</td>\n",
       "      <td>1</td>\n",
       "      <td>220925.908524</td>\n",
       "    </tr>\n",
       "    <tr>\n",
       "      <th>3</th>\n",
       "      <td>5809</td>\n",
       "      <td>58</td>\n",
       "      <td>2.0</td>\n",
       "      <td>53.352981</td>\n",
       "      <td>52.731512</td>\n",
       "      <td>9.0</td>\n",
       "      <td>8</td>\n",
       "      <td>17.0</td>\n",
       "      <td>1977</td>\n",
       "      <td>0.437885</td>\n",
       "      <td>1</td>\n",
       "      <td>1</td>\n",
       "      <td>23</td>\n",
       "      <td>5735</td>\n",
       "      <td>3</td>\n",
       "      <td>1084.0</td>\n",
       "      <td>0</td>\n",
       "      <td>5</td>\n",
       "      <td>1</td>\n",
       "      <td>175616.227217</td>\n",
       "    </tr>\n",
       "    <tr>\n",
       "      <th>4</th>\n",
       "      <td>10783</td>\n",
       "      <td>99</td>\n",
       "      <td>1.0</td>\n",
       "      <td>39.649192</td>\n",
       "      <td>23.776169</td>\n",
       "      <td>7.0</td>\n",
       "      <td>11</td>\n",
       "      <td>12.0</td>\n",
       "      <td>1976</td>\n",
       "      <td>0.012339</td>\n",
       "      <td>1</td>\n",
       "      <td>1</td>\n",
       "      <td>35</td>\n",
       "      <td>5776</td>\n",
       "      <td>1</td>\n",
       "      <td>2078.0</td>\n",
       "      <td>2</td>\n",
       "      <td>4</td>\n",
       "      <td>1</td>\n",
       "      <td>150226.531644</td>\n",
       "    </tr>\n",
       "  </tbody>\n",
       "</table>\n",
       "</div>"
      ],
      "text/plain": [
       "      Id  DistrictId  Rooms     Square  LifeSquare  KitchenSquare  Floor  \\\n",
       "0  14038          35    2.0  47.981561   29.442751            6.0      7   \n",
       "1  15053          41    3.0  65.683640   40.049543            8.0      7   \n",
       "2   4765          53    2.0  44.947953   29.197612            0.0      8   \n",
       "3   5809          58    2.0  53.352981   52.731512            9.0      8   \n",
       "4  10783          99    1.0  39.649192   23.776169            7.0     11   \n",
       "\n",
       "   HouseFloor  HouseYear  Ecology_1  Ecology_2  Ecology_3  Social_1  Social_2  \\\n",
       "0         9.0       1969   0.089040          1          1        33      7976   \n",
       "1         9.0       1978   0.000070          1          1        46     10309   \n",
       "2        12.0       1968   0.049637          1          1        34      7759   \n",
       "3        17.0       1977   0.437885          1          1        23      5735   \n",
       "4        12.0       1976   0.012339          1          1        35      5776   \n",
       "\n",
       "   Social_3  Healthcare_1  Helthcare_2  Shops_1  Shops_2          Price  \n",
       "0         5           NaN            0       11        1  184966.930730  \n",
       "1         1         240.0            1       16        1  300009.450063  \n",
       "2         0         229.0            1        3        1  220925.908524  \n",
       "3         3        1084.0            0        5        1  175616.227217  \n",
       "4         1        2078.0            2        4        1  150226.531644  "
      ]
     },
     "execution_count": 503,
     "metadata": {},
     "output_type": "execute_result"
    }
   ],
   "source": [
    "train.head(5)"
   ]
  },
  {
   "cell_type": "markdown",
   "id": "d6133f57-eb7c-42cd-8acb-0b0224b4d6c8",
   "metadata": {},
   "source": [
    "Проверим, что жилая площадь не больше чем площадь объекта недвижимости"
   ]
  },
  {
   "cell_type": "code",
   "execution_count": 504,
   "id": "0584e4e1-f482-41aa-a587-cd46978d6cef",
   "metadata": {},
   "outputs": [
    {
     "data": {
      "text/plain": [
       "Id               482\n",
       "DistrictId       482\n",
       "Rooms            482\n",
       "Square           482\n",
       "LifeSquare       482\n",
       "KitchenSquare    482\n",
       "Floor            482\n",
       "HouseFloor       482\n",
       "HouseYear        482\n",
       "Ecology_1        482\n",
       "Ecology_2        482\n",
       "Ecology_3        482\n",
       "Social_1         482\n",
       "Social_2         482\n",
       "Social_3         482\n",
       "Healthcare_1     169\n",
       "Helthcare_2      482\n",
       "Shops_1          482\n",
       "Shops_2          482\n",
       "Price            482\n",
       "dtype: int64"
      ]
     },
     "execution_count": 504,
     "metadata": {},
     "output_type": "execute_result"
    }
   ],
   "source": [
    "train[train['Square']<train['LifeSquare']].count()"
   ]
  },
  {
   "cell_type": "code",
   "execution_count": 505,
   "id": "e84b6070-0eb6-4cd7-b1c2-13d7f8448560",
   "metadata": {},
   "outputs": [],
   "source": [
    "square_median=union_df[union_df['Square']>union_df['LifeSquare']]['Square'].median()"
   ]
  },
  {
   "cell_type": "code",
   "execution_count": 506,
   "id": "8ea694c1-56af-43b3-97b8-b0861568341c",
   "metadata": {},
   "outputs": [],
   "source": [
    "life_square_median=union_df[union_df['Square']>union_df['LifeSquare']]['LifeSquare'].median()"
   ]
  },
  {
   "cell_type": "code",
   "execution_count": 507,
   "id": "fa835f89-7d2a-4355-a14c-745b3db3b658",
   "metadata": {},
   "outputs": [
    {
     "data": {
      "text/plain": [
       "1.5730708753907248"
      ]
     },
     "execution_count": 507,
     "metadata": {},
     "output_type": "execute_result"
    }
   ],
   "source": [
    "ratio=square_median/life_square_median\n",
    "ratio"
   ]
  },
  {
   "cell_type": "markdown",
   "id": "5d604695-5ba8-4704-b2fd-2c891d6d4330",
   "metadata": {},
   "source": [
    "Заменим значения в Dataframe в строках где жилая площадь больше чем общая площадь, по среднему отношению Общая/Жилая"
   ]
  },
  {
   "cell_type": "code",
   "execution_count": 508,
   "id": "3ddf9147-d0d6-4a39-be1f-aa3c4b3e50c1",
   "metadata": {},
   "outputs": [],
   "source": [
    "train.loc[train['Square']<train['LifeSquare'],'LifeSquare']=train['Square']/ratio\n",
    "test.loc[test['Square']<test['LifeSquare'],'LifeSquare']=test['Square']/ratio"
   ]
  },
  {
   "cell_type": "code",
   "execution_count": 509,
   "id": "bec46f52-649a-487a-95dd-1284c920d088",
   "metadata": {},
   "outputs": [
    {
     "data": {
      "text/plain": [
       "Id               0\n",
       "DistrictId       0\n",
       "Rooms            0\n",
       "Square           0\n",
       "LifeSquare       0\n",
       "KitchenSquare    0\n",
       "Floor            0\n",
       "HouseFloor       0\n",
       "HouseYear        0\n",
       "Ecology_1        0\n",
       "Ecology_2        0\n",
       "Ecology_3        0\n",
       "Social_1         0\n",
       "Social_2         0\n",
       "Social_3         0\n",
       "Healthcare_1     0\n",
       "Helthcare_2      0\n",
       "Shops_1          0\n",
       "Shops_2          0\n",
       "Price            0\n",
       "dtype: int64"
      ]
     },
     "execution_count": 509,
     "metadata": {},
     "output_type": "execute_result"
    }
   ],
   "source": [
    "train[train['Square']<train['LifeSquare']].count()"
   ]
  },
  {
   "cell_type": "code",
   "execution_count": 510,
   "id": "aedc169c-0a1a-492c-84ef-3c29ea380f46",
   "metadata": {},
   "outputs": [
    {
     "data": {
      "text/html": [
       "<div>\n",
       "<style scoped>\n",
       "    .dataframe tbody tr th:only-of-type {\n",
       "        vertical-align: middle;\n",
       "    }\n",
       "\n",
       "    .dataframe tbody tr th {\n",
       "        vertical-align: top;\n",
       "    }\n",
       "\n",
       "    .dataframe thead th {\n",
       "        text-align: right;\n",
       "    }\n",
       "</style>\n",
       "<table border=\"1\" class=\"dataframe\">\n",
       "  <thead>\n",
       "    <tr style=\"text-align: right;\">\n",
       "      <th></th>\n",
       "      <th>Id</th>\n",
       "      <th>DistrictId</th>\n",
       "      <th>Rooms</th>\n",
       "      <th>Square</th>\n",
       "      <th>LifeSquare</th>\n",
       "      <th>KitchenSquare</th>\n",
       "      <th>Floor</th>\n",
       "      <th>HouseFloor</th>\n",
       "      <th>HouseYear</th>\n",
       "      <th>Ecology_1</th>\n",
       "      <th>Ecology_2</th>\n",
       "      <th>Ecology_3</th>\n",
       "      <th>Social_1</th>\n",
       "      <th>Social_2</th>\n",
       "      <th>Social_3</th>\n",
       "      <th>Healthcare_1</th>\n",
       "      <th>Helthcare_2</th>\n",
       "      <th>Shops_1</th>\n",
       "      <th>Shops_2</th>\n",
       "      <th>Price</th>\n",
       "    </tr>\n",
       "  </thead>\n",
       "  <tbody>\n",
       "    <tr>\n",
       "      <th>0</th>\n",
       "      <td>14038</td>\n",
       "      <td>35</td>\n",
       "      <td>2.0</td>\n",
       "      <td>47.981561</td>\n",
       "      <td>29.442751</td>\n",
       "      <td>6.0</td>\n",
       "      <td>7</td>\n",
       "      <td>9.0</td>\n",
       "      <td>1969</td>\n",
       "      <td>0.089040</td>\n",
       "      <td>1</td>\n",
       "      <td>1</td>\n",
       "      <td>33</td>\n",
       "      <td>7976</td>\n",
       "      <td>5</td>\n",
       "      <td>NaN</td>\n",
       "      <td>0</td>\n",
       "      <td>11</td>\n",
       "      <td>1</td>\n",
       "      <td>184966.930730</td>\n",
       "    </tr>\n",
       "    <tr>\n",
       "      <th>1</th>\n",
       "      <td>15053</td>\n",
       "      <td>41</td>\n",
       "      <td>3.0</td>\n",
       "      <td>65.683640</td>\n",
       "      <td>40.049543</td>\n",
       "      <td>8.0</td>\n",
       "      <td>7</td>\n",
       "      <td>9.0</td>\n",
       "      <td>1978</td>\n",
       "      <td>0.000070</td>\n",
       "      <td>1</td>\n",
       "      <td>1</td>\n",
       "      <td>46</td>\n",
       "      <td>10309</td>\n",
       "      <td>1</td>\n",
       "      <td>240.0</td>\n",
       "      <td>1</td>\n",
       "      <td>16</td>\n",
       "      <td>1</td>\n",
       "      <td>300009.450063</td>\n",
       "    </tr>\n",
       "    <tr>\n",
       "      <th>2</th>\n",
       "      <td>4765</td>\n",
       "      <td>53</td>\n",
       "      <td>2.0</td>\n",
       "      <td>44.947953</td>\n",
       "      <td>29.197612</td>\n",
       "      <td>0.0</td>\n",
       "      <td>8</td>\n",
       "      <td>12.0</td>\n",
       "      <td>1968</td>\n",
       "      <td>0.049637</td>\n",
       "      <td>1</td>\n",
       "      <td>1</td>\n",
       "      <td>34</td>\n",
       "      <td>7759</td>\n",
       "      <td>0</td>\n",
       "      <td>229.0</td>\n",
       "      <td>1</td>\n",
       "      <td>3</td>\n",
       "      <td>1</td>\n",
       "      <td>220925.908524</td>\n",
       "    </tr>\n",
       "    <tr>\n",
       "      <th>3</th>\n",
       "      <td>5809</td>\n",
       "      <td>58</td>\n",
       "      <td>2.0</td>\n",
       "      <td>53.352981</td>\n",
       "      <td>52.731512</td>\n",
       "      <td>9.0</td>\n",
       "      <td>8</td>\n",
       "      <td>17.0</td>\n",
       "      <td>1977</td>\n",
       "      <td>0.437885</td>\n",
       "      <td>1</td>\n",
       "      <td>1</td>\n",
       "      <td>23</td>\n",
       "      <td>5735</td>\n",
       "      <td>3</td>\n",
       "      <td>1084.0</td>\n",
       "      <td>0</td>\n",
       "      <td>5</td>\n",
       "      <td>1</td>\n",
       "      <td>175616.227217</td>\n",
       "    </tr>\n",
       "    <tr>\n",
       "      <th>4</th>\n",
       "      <td>10783</td>\n",
       "      <td>99</td>\n",
       "      <td>1.0</td>\n",
       "      <td>39.649192</td>\n",
       "      <td>23.776169</td>\n",
       "      <td>7.0</td>\n",
       "      <td>11</td>\n",
       "      <td>12.0</td>\n",
       "      <td>1976</td>\n",
       "      <td>0.012339</td>\n",
       "      <td>1</td>\n",
       "      <td>1</td>\n",
       "      <td>35</td>\n",
       "      <td>5776</td>\n",
       "      <td>1</td>\n",
       "      <td>2078.0</td>\n",
       "      <td>2</td>\n",
       "      <td>4</td>\n",
       "      <td>1</td>\n",
       "      <td>150226.531644</td>\n",
       "    </tr>\n",
       "  </tbody>\n",
       "</table>\n",
       "</div>"
      ],
      "text/plain": [
       "      Id  DistrictId  Rooms     Square  LifeSquare  KitchenSquare  Floor  \\\n",
       "0  14038          35    2.0  47.981561   29.442751            6.0      7   \n",
       "1  15053          41    3.0  65.683640   40.049543            8.0      7   \n",
       "2   4765          53    2.0  44.947953   29.197612            0.0      8   \n",
       "3   5809          58    2.0  53.352981   52.731512            9.0      8   \n",
       "4  10783          99    1.0  39.649192   23.776169            7.0     11   \n",
       "\n",
       "   HouseFloor  HouseYear  Ecology_1  Ecology_2  Ecology_3  Social_1  Social_2  \\\n",
       "0         9.0       1969   0.089040          1          1        33      7976   \n",
       "1         9.0       1978   0.000070          1          1        46     10309   \n",
       "2        12.0       1968   0.049637          1          1        34      7759   \n",
       "3        17.0       1977   0.437885          1          1        23      5735   \n",
       "4        12.0       1976   0.012339          1          1        35      5776   \n",
       "\n",
       "   Social_3  Healthcare_1  Helthcare_2  Shops_1  Shops_2          Price  \n",
       "0         5           NaN            0       11        1  184966.930730  \n",
       "1         1         240.0            1       16        1  300009.450063  \n",
       "2         0         229.0            1        3        1  220925.908524  \n",
       "3         3        1084.0            0        5        1  175616.227217  \n",
       "4         1        2078.0            2        4        1  150226.531644  "
      ]
     },
     "execution_count": 510,
     "metadata": {},
     "output_type": "execute_result"
    }
   ],
   "source": [
    "train.head(5)"
   ]
  },
  {
   "cell_type": "markdown",
   "id": "f869e30e-ed2e-4611-b26f-7fd0e0a898a0",
   "metadata": {},
   "source": [
    "Заполним жилую площадь в строках содержащие нулевое значение для жмлой площади"
   ]
  },
  {
   "cell_type": "code",
   "execution_count": 511,
   "id": "fe6e021a-70d4-4a6d-b36e-a260a2fe9de5",
   "metadata": {},
   "outputs": [],
   "source": [
    "train.loc[train['LifeSquare'].isnull(),'LifeSquare']=train['Square']/ratio\n",
    "test.loc[test['LifeSquare'].isnull(),'LifeSquare']=test['Square']/ratio"
   ]
  },
  {
   "cell_type": "code",
   "execution_count": 512,
   "id": "c4f4622c-7715-4bfe-9c79-0c428a3b67d3",
   "metadata": {},
   "outputs": [
    {
     "data": {
      "text/html": [
       "<div>\n",
       "<style scoped>\n",
       "    .dataframe tbody tr th:only-of-type {\n",
       "        vertical-align: middle;\n",
       "    }\n",
       "\n",
       "    .dataframe tbody tr th {\n",
       "        vertical-align: top;\n",
       "    }\n",
       "\n",
       "    .dataframe thead th {\n",
       "        text-align: right;\n",
       "    }\n",
       "</style>\n",
       "<table border=\"1\" class=\"dataframe\">\n",
       "  <thead>\n",
       "    <tr style=\"text-align: right;\">\n",
       "      <th></th>\n",
       "      <th>Id</th>\n",
       "      <th>DistrictId</th>\n",
       "      <th>Rooms</th>\n",
       "      <th>Square</th>\n",
       "      <th>LifeSquare</th>\n",
       "      <th>KitchenSquare</th>\n",
       "      <th>Floor</th>\n",
       "      <th>HouseFloor</th>\n",
       "      <th>HouseYear</th>\n",
       "      <th>Ecology_1</th>\n",
       "      <th>Ecology_2</th>\n",
       "      <th>Ecology_3</th>\n",
       "      <th>Social_1</th>\n",
       "      <th>Social_2</th>\n",
       "      <th>Social_3</th>\n",
       "      <th>Healthcare_1</th>\n",
       "      <th>Helthcare_2</th>\n",
       "      <th>Shops_1</th>\n",
       "      <th>Shops_2</th>\n",
       "      <th>Price</th>\n",
       "    </tr>\n",
       "  </thead>\n",
       "  <tbody>\n",
       "    <tr>\n",
       "      <th>0</th>\n",
       "      <td>14038</td>\n",
       "      <td>35</td>\n",
       "      <td>2.0</td>\n",
       "      <td>47.981561</td>\n",
       "      <td>29.442751</td>\n",
       "      <td>6.0</td>\n",
       "      <td>7</td>\n",
       "      <td>9.0</td>\n",
       "      <td>1969</td>\n",
       "      <td>0.089040</td>\n",
       "      <td>1</td>\n",
       "      <td>1</td>\n",
       "      <td>33</td>\n",
       "      <td>7976</td>\n",
       "      <td>5</td>\n",
       "      <td>NaN</td>\n",
       "      <td>0</td>\n",
       "      <td>11</td>\n",
       "      <td>1</td>\n",
       "      <td>184966.930730</td>\n",
       "    </tr>\n",
       "    <tr>\n",
       "      <th>1</th>\n",
       "      <td>15053</td>\n",
       "      <td>41</td>\n",
       "      <td>3.0</td>\n",
       "      <td>65.683640</td>\n",
       "      <td>40.049543</td>\n",
       "      <td>8.0</td>\n",
       "      <td>7</td>\n",
       "      <td>9.0</td>\n",
       "      <td>1978</td>\n",
       "      <td>0.000070</td>\n",
       "      <td>1</td>\n",
       "      <td>1</td>\n",
       "      <td>46</td>\n",
       "      <td>10309</td>\n",
       "      <td>1</td>\n",
       "      <td>240.0</td>\n",
       "      <td>1</td>\n",
       "      <td>16</td>\n",
       "      <td>1</td>\n",
       "      <td>300009.450063</td>\n",
       "    </tr>\n",
       "    <tr>\n",
       "      <th>2</th>\n",
       "      <td>4765</td>\n",
       "      <td>53</td>\n",
       "      <td>2.0</td>\n",
       "      <td>44.947953</td>\n",
       "      <td>29.197612</td>\n",
       "      <td>0.0</td>\n",
       "      <td>8</td>\n",
       "      <td>12.0</td>\n",
       "      <td>1968</td>\n",
       "      <td>0.049637</td>\n",
       "      <td>1</td>\n",
       "      <td>1</td>\n",
       "      <td>34</td>\n",
       "      <td>7759</td>\n",
       "      <td>0</td>\n",
       "      <td>229.0</td>\n",
       "      <td>1</td>\n",
       "      <td>3</td>\n",
       "      <td>1</td>\n",
       "      <td>220925.908524</td>\n",
       "    </tr>\n",
       "    <tr>\n",
       "      <th>3</th>\n",
       "      <td>5809</td>\n",
       "      <td>58</td>\n",
       "      <td>2.0</td>\n",
       "      <td>53.352981</td>\n",
       "      <td>52.731512</td>\n",
       "      <td>9.0</td>\n",
       "      <td>8</td>\n",
       "      <td>17.0</td>\n",
       "      <td>1977</td>\n",
       "      <td>0.437885</td>\n",
       "      <td>1</td>\n",
       "      <td>1</td>\n",
       "      <td>23</td>\n",
       "      <td>5735</td>\n",
       "      <td>3</td>\n",
       "      <td>1084.0</td>\n",
       "      <td>0</td>\n",
       "      <td>5</td>\n",
       "      <td>1</td>\n",
       "      <td>175616.227217</td>\n",
       "    </tr>\n",
       "    <tr>\n",
       "      <th>4</th>\n",
       "      <td>10783</td>\n",
       "      <td>99</td>\n",
       "      <td>1.0</td>\n",
       "      <td>39.649192</td>\n",
       "      <td>23.776169</td>\n",
       "      <td>7.0</td>\n",
       "      <td>11</td>\n",
       "      <td>12.0</td>\n",
       "      <td>1976</td>\n",
       "      <td>0.012339</td>\n",
       "      <td>1</td>\n",
       "      <td>1</td>\n",
       "      <td>35</td>\n",
       "      <td>5776</td>\n",
       "      <td>1</td>\n",
       "      <td>2078.0</td>\n",
       "      <td>2</td>\n",
       "      <td>4</td>\n",
       "      <td>1</td>\n",
       "      <td>150226.531644</td>\n",
       "    </tr>\n",
       "  </tbody>\n",
       "</table>\n",
       "</div>"
      ],
      "text/plain": [
       "      Id  DistrictId  Rooms     Square  LifeSquare  KitchenSquare  Floor  \\\n",
       "0  14038          35    2.0  47.981561   29.442751            6.0      7   \n",
       "1  15053          41    3.0  65.683640   40.049543            8.0      7   \n",
       "2   4765          53    2.0  44.947953   29.197612            0.0      8   \n",
       "3   5809          58    2.0  53.352981   52.731512            9.0      8   \n",
       "4  10783          99    1.0  39.649192   23.776169            7.0     11   \n",
       "\n",
       "   HouseFloor  HouseYear  Ecology_1  Ecology_2  Ecology_3  Social_1  Social_2  \\\n",
       "0         9.0       1969   0.089040          1          1        33      7976   \n",
       "1         9.0       1978   0.000070          1          1        46     10309   \n",
       "2        12.0       1968   0.049637          1          1        34      7759   \n",
       "3        17.0       1977   0.437885          1          1        23      5735   \n",
       "4        12.0       1976   0.012339          1          1        35      5776   \n",
       "\n",
       "   Social_3  Healthcare_1  Helthcare_2  Shops_1  Shops_2          Price  \n",
       "0         5           NaN            0       11        1  184966.930730  \n",
       "1         1         240.0            1       16        1  300009.450063  \n",
       "2         0         229.0            1        3        1  220925.908524  \n",
       "3         3        1084.0            0        5        1  175616.227217  \n",
       "4         1        2078.0            2        4        1  150226.531644  "
      ]
     },
     "execution_count": 512,
     "metadata": {},
     "output_type": "execute_result"
    }
   ],
   "source": [
    "train.head(5)"
   ]
  },
  {
   "cell_type": "code",
   "execution_count": 513,
   "id": "ab666154-7639-46a2-84a4-1ac87e962e7d",
   "metadata": {},
   "outputs": [],
   "source": [
    "house_year_median=union_df[union_df['HouseYear']<2023]['HouseYear'].median()"
   ]
  },
  {
   "cell_type": "markdown",
   "id": "b8023232-318e-4a03-9a87-b5f21f5e9dcd",
   "metadata": {},
   "source": [
    "проверим что год постройки не больше чем текущий и заменим средним значением "
   ]
  },
  {
   "cell_type": "code",
   "execution_count": 514,
   "id": "67dc733d-8f72-4473-9203-6914e6592f49",
   "metadata": {},
   "outputs": [],
   "source": [
    "train.loc[train['HouseYear']>2022,'HouseYear']=house_year_median\n",
    "test.loc[test['HouseYear']>2022,'HouseYear']=house_year_median"
   ]
  },
  {
   "cell_type": "code",
   "execution_count": 515,
   "id": "ea86bd72-e70f-4931-81db-ce7d421d32ed",
   "metadata": {},
   "outputs": [],
   "source": [
    "health_care_median=union_df['Healthcare_1'].median()"
   ]
  },
  {
   "cell_type": "markdown",
   "id": "6d1aacf3-f35f-412d-820e-104d7d691c35",
   "metadata": {},
   "source": [
    "Заменим строки с пустами значениями наличия объектов зравоохранения, среним значением"
   ]
  },
  {
   "cell_type": "code",
   "execution_count": 516,
   "id": "805e3dc6-cca9-47ef-bad7-74652dde65c4",
   "metadata": {},
   "outputs": [],
   "source": [
    "train.loc[train['Healthcare_1'].isnull(),'Healthcare_1']=health_care_median\n",
    "test.loc[test['Healthcare_1'].isnull(),'Healthcare_1']=health_care_median"
   ]
  },
  {
   "cell_type": "code",
   "execution_count": 517,
   "id": "1e084a51-d09d-40ac-a9e5-623b7ce20fbc",
   "metadata": {},
   "outputs": [
    {
     "data": {
      "text/html": [
       "<div>\n",
       "<style scoped>\n",
       "    .dataframe tbody tr th:only-of-type {\n",
       "        vertical-align: middle;\n",
       "    }\n",
       "\n",
       "    .dataframe tbody tr th {\n",
       "        vertical-align: top;\n",
       "    }\n",
       "\n",
       "    .dataframe thead th {\n",
       "        text-align: right;\n",
       "    }\n",
       "</style>\n",
       "<table border=\"1\" class=\"dataframe\">\n",
       "  <thead>\n",
       "    <tr style=\"text-align: right;\">\n",
       "      <th></th>\n",
       "      <th>Id</th>\n",
       "      <th>DistrictId</th>\n",
       "      <th>Rooms</th>\n",
       "      <th>Square</th>\n",
       "      <th>LifeSquare</th>\n",
       "      <th>KitchenSquare</th>\n",
       "      <th>Floor</th>\n",
       "      <th>HouseFloor</th>\n",
       "      <th>HouseYear</th>\n",
       "      <th>Ecology_1</th>\n",
       "      <th>Ecology_2</th>\n",
       "      <th>Ecology_3</th>\n",
       "      <th>Social_1</th>\n",
       "      <th>Social_2</th>\n",
       "      <th>Social_3</th>\n",
       "      <th>Healthcare_1</th>\n",
       "      <th>Helthcare_2</th>\n",
       "      <th>Shops_1</th>\n",
       "      <th>Shops_2</th>\n",
       "      <th>Price</th>\n",
       "    </tr>\n",
       "  </thead>\n",
       "  <tbody>\n",
       "    <tr>\n",
       "      <th>0</th>\n",
       "      <td>14038</td>\n",
       "      <td>35</td>\n",
       "      <td>2.0</td>\n",
       "      <td>47.981561</td>\n",
       "      <td>29.442751</td>\n",
       "      <td>6.0</td>\n",
       "      <td>7</td>\n",
       "      <td>9.0</td>\n",
       "      <td>1969</td>\n",
       "      <td>0.089040</td>\n",
       "      <td>1</td>\n",
       "      <td>1</td>\n",
       "      <td>33</td>\n",
       "      <td>7976</td>\n",
       "      <td>5</td>\n",
       "      <td>900.0</td>\n",
       "      <td>0</td>\n",
       "      <td>11</td>\n",
       "      <td>1</td>\n",
       "      <td>184966.930730</td>\n",
       "    </tr>\n",
       "    <tr>\n",
       "      <th>1</th>\n",
       "      <td>15053</td>\n",
       "      <td>41</td>\n",
       "      <td>3.0</td>\n",
       "      <td>65.683640</td>\n",
       "      <td>40.049543</td>\n",
       "      <td>8.0</td>\n",
       "      <td>7</td>\n",
       "      <td>9.0</td>\n",
       "      <td>1978</td>\n",
       "      <td>0.000070</td>\n",
       "      <td>1</td>\n",
       "      <td>1</td>\n",
       "      <td>46</td>\n",
       "      <td>10309</td>\n",
       "      <td>1</td>\n",
       "      <td>240.0</td>\n",
       "      <td>1</td>\n",
       "      <td>16</td>\n",
       "      <td>1</td>\n",
       "      <td>300009.450063</td>\n",
       "    </tr>\n",
       "    <tr>\n",
       "      <th>2</th>\n",
       "      <td>4765</td>\n",
       "      <td>53</td>\n",
       "      <td>2.0</td>\n",
       "      <td>44.947953</td>\n",
       "      <td>29.197612</td>\n",
       "      <td>0.0</td>\n",
       "      <td>8</td>\n",
       "      <td>12.0</td>\n",
       "      <td>1968</td>\n",
       "      <td>0.049637</td>\n",
       "      <td>1</td>\n",
       "      <td>1</td>\n",
       "      <td>34</td>\n",
       "      <td>7759</td>\n",
       "      <td>0</td>\n",
       "      <td>229.0</td>\n",
       "      <td>1</td>\n",
       "      <td>3</td>\n",
       "      <td>1</td>\n",
       "      <td>220925.908524</td>\n",
       "    </tr>\n",
       "    <tr>\n",
       "      <th>3</th>\n",
       "      <td>5809</td>\n",
       "      <td>58</td>\n",
       "      <td>2.0</td>\n",
       "      <td>53.352981</td>\n",
       "      <td>52.731512</td>\n",
       "      <td>9.0</td>\n",
       "      <td>8</td>\n",
       "      <td>17.0</td>\n",
       "      <td>1977</td>\n",
       "      <td>0.437885</td>\n",
       "      <td>1</td>\n",
       "      <td>1</td>\n",
       "      <td>23</td>\n",
       "      <td>5735</td>\n",
       "      <td>3</td>\n",
       "      <td>1084.0</td>\n",
       "      <td>0</td>\n",
       "      <td>5</td>\n",
       "      <td>1</td>\n",
       "      <td>175616.227217</td>\n",
       "    </tr>\n",
       "    <tr>\n",
       "      <th>4</th>\n",
       "      <td>10783</td>\n",
       "      <td>99</td>\n",
       "      <td>1.0</td>\n",
       "      <td>39.649192</td>\n",
       "      <td>23.776169</td>\n",
       "      <td>7.0</td>\n",
       "      <td>11</td>\n",
       "      <td>12.0</td>\n",
       "      <td>1976</td>\n",
       "      <td>0.012339</td>\n",
       "      <td>1</td>\n",
       "      <td>1</td>\n",
       "      <td>35</td>\n",
       "      <td>5776</td>\n",
       "      <td>1</td>\n",
       "      <td>2078.0</td>\n",
       "      <td>2</td>\n",
       "      <td>4</td>\n",
       "      <td>1</td>\n",
       "      <td>150226.531644</td>\n",
       "    </tr>\n",
       "  </tbody>\n",
       "</table>\n",
       "</div>"
      ],
      "text/plain": [
       "      Id  DistrictId  Rooms     Square  LifeSquare  KitchenSquare  Floor  \\\n",
       "0  14038          35    2.0  47.981561   29.442751            6.0      7   \n",
       "1  15053          41    3.0  65.683640   40.049543            8.0      7   \n",
       "2   4765          53    2.0  44.947953   29.197612            0.0      8   \n",
       "3   5809          58    2.0  53.352981   52.731512            9.0      8   \n",
       "4  10783          99    1.0  39.649192   23.776169            7.0     11   \n",
       "\n",
       "   HouseFloor  HouseYear  Ecology_1  Ecology_2  Ecology_3  Social_1  Social_2  \\\n",
       "0         9.0       1969   0.089040          1          1        33      7976   \n",
       "1         9.0       1978   0.000070          1          1        46     10309   \n",
       "2        12.0       1968   0.049637          1          1        34      7759   \n",
       "3        17.0       1977   0.437885          1          1        23      5735   \n",
       "4        12.0       1976   0.012339          1          1        35      5776   \n",
       "\n",
       "   Social_3  Healthcare_1  Helthcare_2  Shops_1  Shops_2          Price  \n",
       "0         5         900.0            0       11        1  184966.930730  \n",
       "1         1         240.0            1       16        1  300009.450063  \n",
       "2         0         229.0            1        3        1  220925.908524  \n",
       "3         3        1084.0            0        5        1  175616.227217  \n",
       "4         1        2078.0            2        4        1  150226.531644  "
      ]
     },
     "execution_count": 517,
     "metadata": {},
     "output_type": "execute_result"
    }
   ],
   "source": [
    "train.head(5)"
   ]
  },
  {
   "cell_type": "code",
   "execution_count": 518,
   "id": "7d99f998-39b7-46e0-946f-4cd6239988ad",
   "metadata": {},
   "outputs": [],
   "source": [
    "fearute_names=[ 'Rooms', 'Square', 'LifeSquare', 'KitchenSquare',\n",
    "       'Floor', 'HouseFloor', 'HouseYear', 'Ecology_1', 'Ecology_2',\n",
    "       'Ecology_3', 'Social_1', 'Social_2', 'Social_3', 'Healthcare_1',\n",
    "       'Helthcare_2', 'Shops_1', 'Shops_2']"
   ]
  },
  {
   "cell_type": "code",
   "execution_count": 519,
   "id": "a9ae4dbd-ed5b-437e-9095-5a9577167709",
   "metadata": {},
   "outputs": [],
   "source": [
    "X_train=train[fearute_names]\n",
    "X_test=test[fearute_names]"
   ]
  },
  {
   "cell_type": "code",
   "execution_count": 520,
   "id": "11186a13-2a86-4425-979e-45310a41d04b",
   "metadata": {},
   "outputs": [],
   "source": [
    "Y_train=train['Price']\n"
   ]
  },
  {
   "cell_type": "markdown",
   "id": "2462aa83-1d9d-41d2-a424-774eb367a1bb",
   "metadata": {},
   "source": [
    "Построим матрицу ковариации признаков"
   ]
  },
  {
   "cell_type": "code",
   "execution_count": 521,
   "id": "b1e54b7a-fcbe-44cb-ac87-bcecdd48474c",
   "metadata": {},
   "outputs": [],
   "source": [
    "import seaborn as sns"
   ]
  },
  {
   "cell_type": "code",
   "execution_count": 522,
   "id": "26a9fdf1-64af-4edf-ae47-a8c1645d8ccd",
   "metadata": {},
   "outputs": [
    {
     "data": {
      "image/png": "[encoded data removed]",
      "text/plain": [
       "<Figure size 1152x1152 with 2 Axes>"
      ]
     },
     "metadata": {
      "needs_background": "light"
     },
     "output_type": "display_data"
    }
   ],
   "source": [
    "plt.figure(figsize=(16,16))\n",
    "sns.heatmap(pd.DataFrame(X_train, columns=fearute_names).corr(),annot=True, cmap='GnBu', xticklabels=True, yticklabels=True)\n",
    "plt.show()"
   ]
  },
  {
   "cell_type": "markdown",
   "id": "3a326ff7-fe27-46db-abfd-19841036d6e9",
   "metadata": {},
   "source": [
    "Видно, что наличие налиие объектов социального назначения, коррелирует с наличием объектов здравоохранения и бытового обслуживания, \n",
    "что в целом говорит о пропорциональном развитиее объектов - строятся одни, строятся и другие. Общая площадь , как главная компонента, которая отражает и жилую площадь и соответственно количество комнат. Также заметно , что этажность и год постройки коррелируют, так видимо дома более старые имеют меньше этажей. Исключим из признаков districtId, так как идентификатор района не подчеркивает близость к центру или престижность, если конечно идентфиикаторы не присваивали в порядке возрастания в зависимости от престижности или близости к центру."
   ]
  },
  {
   "cell_type": "code",
   "execution_count": 523,
   "id": "571773c4-8ae3-483e-8c31-9d59893a293e",
   "metadata": {},
   "outputs": [],
   "source": [
    "from sklearn.model_selection import train_test_split"
   ]
  },
  {
   "cell_type": "markdown",
   "id": "6aa6169b-7b96-4c9d-8086-1ac9aa487b3a",
   "metadata": {},
   "source": [
    "Разбиваем выборку на тестовую для проверки модели, и обучающую."
   ]
  },
  {
   "cell_type": "code",
   "execution_count": 524,
   "id": "e011bd7c-5ce7-4712-aa81-0ec0e005f6ce",
   "metadata": {},
   "outputs": [],
   "source": [
    "x_train, x_test, y_train, y_test = train_test_split(X_train,Y_train,test_size=0.30, random_state=42)"
   ]
  },
  {
   "cell_type": "code",
   "execution_count": 525,
   "id": "35a4b558-2e86-4fad-860f-981a7e830895",
   "metadata": {},
   "outputs": [],
   "source": [
    "from sklearn.preprocessing import StandardScaler"
   ]
  },
  {
   "cell_type": "markdown",
   "id": "16803723-d103-4dbf-8759-a1efca74a583",
   "metadata": {},
   "source": [
    "Произведем масштабирование признаков"
   ]
  },
  {
   "cell_type": "code",
   "execution_count": 526,
   "id": "547fe65d-d211-48bd-9592-52a56ecad66b",
   "metadata": {},
   "outputs": [],
   "source": [
    "scaler=StandardScaler()\n",
    "x_train_scaled=scaler.fit_transform(x_train)"
   ]
  },
  {
   "cell_type": "code",
   "execution_count": 527,
   "id": "aedab793-f7bc-49b6-9326-698e2470c45f",
   "metadata": {},
   "outputs": [],
   "source": [
    "x_test_scaled=scaler.transform(x_test)"
   ]
  },
  {
   "cell_type": "markdown",
   "id": "9e35b3ad-7dcb-40ae-a22f-b63f65b5caa1",
   "metadata": {},
   "source": [
    "Проводим трансформирование тестовой выборки"
   ]
  },
  {
   "cell_type": "code",
   "execution_count": 528,
   "id": "6ab5e2d3-90fd-45bc-8248-82c11f6b2ce8",
   "metadata": {},
   "outputs": [],
   "source": [
    "lr= LinearRegression(fit_intercept=True)"
   ]
  },
  {
   "cell_type": "code",
   "execution_count": 529,
   "id": "b4195068-fcf2-46a2-a56c-4432b08471e1",
   "metadata": {},
   "outputs": [
    {
     "data": {
      "text/plain": [
       "LinearRegression()"
      ]
     },
     "execution_count": 529,
     "metadata": {},
     "output_type": "execute_result"
    }
   ],
   "source": [
    "lr.fit(x_train_scaled,y_train)"
   ]
  },
  {
   "cell_type": "markdown",
   "id": "cc2fffe1-04e4-4fd8-a820-e7b707134dab",
   "metadata": {},
   "source": [
    "Обучаем модель на тренировочной выборке"
   ]
  },
  {
   "cell_type": "code",
   "execution_count": 530,
   "id": "d2a4af78-c964-430a-b3b1-e40ba3fa24f6",
   "metadata": {},
   "outputs": [],
   "source": [
    "\n",
    "y_pred=lr.predict(x_test_scaled)"
   ]
  },
  {
   "cell_type": "markdown",
   "id": "dc6a57f6-2865-43de-96e5-027e84cae839",
   "metadata": {},
   "source": [
    "делаем предсказание для тестовой выборки"
   ]
  },
  {
   "cell_type": "code",
   "execution_count": 531,
   "id": "d0b3d62c-c937-4936-8373-51742426a52e",
   "metadata": {},
   "outputs": [
    {
     "data": {
      "text/plain": [
       "array([ 26105.48245076,  39107.57132036,  -6615.80903379,    774.57178513,\n",
       "         8899.0178592 ,   5553.94031011,  -1520.54200983,  -4196.40197096,\n",
       "         4280.53518949,  -2391.15042782,  43952.27993423, -22954.4661144 ,\n",
       "         6002.46578125,   8011.9045355 ,  10069.65283531,  -5898.991595  ,\n",
       "         3524.44078163])"
      ]
     },
     "execution_count": 531,
     "metadata": {},
     "output_type": "execute_result"
    }
   ],
   "source": [
    "lr.coef_"
   ]
  },
  {
   "cell_type": "code",
   "execution_count": 532,
   "id": "82283149-1b6c-4cd0-ae85-36ea00c30478",
   "metadata": {},
   "outputs": [],
   "source": [
    "from sklearn.metrics import r2_score"
   ]
  },
  {
   "cell_type": "markdown",
   "id": "078b666d-39e3-482a-a0c2-11a86356ead4",
   "metadata": {},
   "source": [
    "Строим метрику r2 для провеки модели"
   ]
  },
  {
   "cell_type": "code",
   "execution_count": 533,
   "id": "8a8929a1-6794-485a-b229-36b7f919ff7c",
   "metadata": {},
   "outputs": [
    {
     "data": {
      "text/plain": [
       "0.44985716881300797"
      ]
     },
     "execution_count": 533,
     "metadata": {},
     "output_type": "execute_result"
    }
   ],
   "source": [
    "r2= r2_score(y_test,y_pred)\n",
    "r2"
   ]
  },
  {
   "cell_type": "markdown",
   "id": "45c89925-596e-4dfc-950c-03a124a3d8a8",
   "metadata": {},
   "source": [
    "Линейная регрессия описывает только 45% дисперсии целевого признака, что является плохим результатом"
   ]
  },
  {
   "cell_type": "code",
   "execution_count": 534,
   "id": "52bf522e-7e00-4dce-94a6-93c40a22a801",
   "metadata": {},
   "outputs": [],
   "source": [
    "from sklearn.ensemble import RandomForestRegressor"
   ]
  },
  {
   "cell_type": "markdown",
   "id": "aec69f16-d4c0-452a-8a87-1b517ce34a00",
   "metadata": {},
   "source": [
    "Проверим другой тип регресии , случайный лес"
   ]
  },
  {
   "cell_type": "code",
   "execution_count": 535,
   "id": "99340a64-a674-4f66-8dd9-e5b823e0f787",
   "metadata": {},
   "outputs": [],
   "source": [
    "clf=RandomForestRegressor(max_depth=12,n_estimators=1000, random_state=42, criterion='squared_error')\n",
    "clf.fit(x_train_scaled,np.array(y_train))\n",
    "y_pred=clf.predict(x_test_scaled)"
   ]
  },
  {
   "cell_type": "code",
   "execution_count": 536,
   "id": "8e173b99-0e2f-464d-81b4-9546b5844184",
   "metadata": {},
   "outputs": [
    {
     "data": {
      "text/plain": [
       "0.7144898614651956"
      ]
     },
     "execution_count": 536,
     "metadata": {},
     "output_type": "execute_result"
    }
   ],
   "source": [
    "r2= r2_score(y_test,y_pred)\n",
    "r2"
   ]
  },
  {
   "cell_type": "markdown",
   "id": "252e53fa-d962-4d4c-b55c-4f08f7cc4850",
   "metadata": {},
   "source": [
    "RandomForestRegressor работает лучше так как  R2(RandomForestRegressor)>R2(LinearRegression)"
   ]
  },
  {
   "cell_type": "code",
   "execution_count": 537,
   "id": "c72e3d84-07b6-4a1b-8640-504f0c848cb2",
   "metadata": {},
   "outputs": [
    {
     "data": {
      "text/plain": [
       "array([0.07460829, 0.42236039, 0.03119084, 0.02500116, 0.02333209,\n",
       "       0.01843119, 0.03329437, 0.04818239, 0.00063646, 0.00050847,\n",
       "       0.09821461, 0.11044316, 0.06488085, 0.02320996, 0.00547561,\n",
       "       0.01967696, 0.00055321])"
      ]
     },
     "execution_count": 537,
     "metadata": {},
     "output_type": "execute_result"
    }
   ],
   "source": [
    "clf.feature_importances_"
   ]
  },
  {
   "cell_type": "markdown",
   "id": "934ff0bc-da82-493c-8413-7c14d3504c59",
   "metadata": {},
   "source": [
    "Посмотрим нормализованные коеффициенты модели, и выведим их в порядке значимости."
   ]
  },
  {
   "cell_type": "code",
   "execution_count": 538,
   "id": "ef4bf7b0-86e7-4ea1-94db-9a88ce357462",
   "metadata": {},
   "outputs": [
    {
     "data": {
      "text/plain": [
       "[('Square', 0.42236038718391555),\n",
       " ('Social_2', 0.11044315820761094),\n",
       " ('Social_1', 0.0982146141574791),\n",
       " ('Rooms', 0.07460828535656952),\n",
       " ('Social_3', 0.06488084759810872),\n",
       " ('Ecology_1', 0.04818239466695367),\n",
       " ('HouseYear', 0.03329436942152191),\n",
       " ('LifeSquare', 0.031190837663714884),\n",
       " ('KitchenSquare', 0.025001162152258713),\n",
       " ('Floor', 0.02333208712940875),\n",
       " ('Healthcare_1', 0.023209955311427596),\n",
       " ('Shops_1', 0.019676961235206826),\n",
       " ('HouseFloor', 0.018431188780416417),\n",
       " ('Helthcare_2', 0.005475612286182858),\n",
       " ('Ecology_2', 0.0006364558122085373),\n",
       " ('Shops_2', 0.0005532129013667515),\n",
       " ('Ecology_3', 0.0005084701356493908)]"
      ]
     },
     "execution_count": 538,
     "metadata": {},
     "output_type": "execute_result"
    }
   ],
   "source": [
    "sorted(list(zip(x_train.columns, clf.feature_importances_)), \n",
    "       key=lambda x: abs(x[1]), reverse=True)"
   ]
  },
  {
   "cell_type": "code",
   "execution_count": 539,
   "id": "f40d6275-8688-4c30-8234-ac866278d664",
   "metadata": {},
   "outputs": [
    {
     "data": {
      "text/plain": [
       "<AxesSubplot:>"
      ]
     },
     "execution_count": 539,
     "metadata": {},
     "output_type": "execute_result"
    },
    {
     "data": {
      "image/png": "[encoded data removed]",
      "text/plain": [
       "<Figure size 432x288 with 1 Axes>"
      ]
     },
     "metadata": {
      "needs_background": "light"
     },
     "output_type": "display_data"
    }
   ],
   "source": [
    "feats = {} # a dict to hold feature_name: feature_importance\n",
    "for feature, importance in zip(x_train.columns, clf.feature_importances_):\n",
    "    feats[feature] = importance #add the name/value pair \n",
    "\n",
    "importances = pd.DataFrame.from_dict(feats, orient='index').rename(columns={0: 'Gini-importance'})\n",
    "importances.sort_values(by='Gini-importance').plot(kind='bar', rot=45)"
   ]
  },
  {
   "cell_type": "markdown",
   "id": "3a0bf7c2-e119-4e51-bb25-794e67dfaa46",
   "metadata": {},
   "source": [
    "Видно, что большую роль в определении цены объекта вносит общая площадь, а также наличие социальной инфраструктуры."
   ]
  },
  {
   "cell_type": "code",
   "execution_count": 540,
   "id": "c183bafb-85cf-4877-a9d9-aa13cd6b83b0",
   "metadata": {},
   "outputs": [
    {
     "data": {
      "text/plain": [
       "{'fit_time': array([0.00388479, 0.00292015, 0.00199962, 0.00300097, 0.002002  ]),\n",
       " 'score_time': array([0.00300407, 0.00199914, 0.00199938, 0.00203705, 0.00199962]),\n",
       " 'estimator': [LinearRegression(),\n",
       "  LinearRegression(),\n",
       "  LinearRegression(),\n",
       "  LinearRegression(),\n",
       "  LinearRegression()],\n",
       " 'test_r2': array([0.18530052, 0.5532633 , 0.44990674, 0.47327832, 0.47927799]),\n",
       " 'test_neg_median_absolute_error': array([-34346.83675707, -28902.63274655, -30888.25419638, -32429.89841719,\n",
       "        -29248.25572809]),\n",
       " 'test_neg_mean_absolute_error': array([-49912.58760444, -44173.2486126 , -45677.06326467, -48418.19572085,\n",
       "        -44268.4196901 ]),\n",
       " 'test_neg_mean_absolute_percentage_error': array([-0.27024739, -0.22848152, -0.22559659, -0.26329471, -0.24033006]),\n",
       " 'test_neg_mean_squared_log_error': array([-0.10646937, -0.08035448, -0.08437918, -0.10077289, -0.08740594]),\n",
       " 'test_neg_root_mean_squared_error': array([-83537.96466651, -65005.88345813, -67789.96978416, -68312.68898307,\n",
       "        -63349.01139434])}"
      ]
     },
     "execution_count": 540,
     "metadata": {},
     "output_type": "execute_result"
    }
   ],
   "source": [
    "from sklearn import linear_model, datasets\n",
    "from sklearn.model_selection import cross_validate\n",
    "\n",
    "\n",
    "cv_results=cross_validate(lr, x_test_scaled,np.array(y_test),scoring = (\n",
    "\"r2\",\n",
    "\"neg_median_absolute_error\",\n",
    "\"neg_mean_absolute_error\",\n",
    "\"neg_mean_absolute_percentage_error\",\n",
    "\"neg_mean_squared_log_error\",\n",
    "\"neg_root_mean_squared_error\",\n",
    "), return_estimator=True)\n",
    "cv_results"
   ]
  },
  {
   "cell_type": "markdown",
   "id": "23251e74-5a28-45a5-ac5f-f662568a13b7",
   "metadata": {},
   "source": [
    "Проведем кросс-валидацию по умолчмнию на 5 fold"
   ]
  },
  {
   "cell_type": "code",
   "execution_count": 541,
   "id": "32ff2821-95e8-4c0a-b4df-b6bfa2b3377b",
   "metadata": {},
   "outputs": [
    {
     "name": "stdout",
     "output_type": "stream",
     "text": [
      "[LinearRegression(), LinearRegression(), LinearRegression(), LinearRegression(), LinearRegression()]\n"
     ]
    }
   ],
   "source": [
    "rfc_fit_lr = cv_results['estimator']\n",
    "print(rfc_fit_lr)"
   ]
  },
  {
   "cell_type": "code",
   "execution_count": 542,
   "id": "2d6ec3ce-7777-457a-b72e-cdf41152f51a",
   "metadata": {},
   "outputs": [],
   "source": [
    "y_pred=rfc_fit_lr[1].predict(x_test_scaled)"
   ]
  },
  {
   "cell_type": "code",
   "execution_count": 543,
   "id": "3c35560c-b1c9-4a84-b9dd-d0480ca95cda",
   "metadata": {},
   "outputs": [
    {
     "data": {
      "text/plain": [
       "0.4730788902300579"
      ]
     },
     "execution_count": 543,
     "metadata": {},
     "output_type": "execute_result"
    }
   ],
   "source": [
    "r2= r2_score(y_test,y_pred)\n",
    "r2"
   ]
  },
  {
   "cell_type": "code",
   "execution_count": 544,
   "id": "044dfe23-2a5d-42a7-bf7f-349f7655efc7",
   "metadata": {},
   "outputs": [
    {
     "data": {
      "text/plain": [
       "{'fit_time': array([10.98555326, 10.73874688, 10.88564467, 10.85612416, 11.0815537 ]),\n",
       " 'score_time': array([0.1509583 , 0.15203691, 0.14999151, 0.15299892, 0.15106821]),\n",
       " 'estimator': [RandomForestRegressor(max_depth=12, n_estimators=1000, random_state=42),\n",
       "  RandomForestRegressor(max_depth=12, n_estimators=1000, random_state=42),\n",
       "  RandomForestRegressor(max_depth=12, n_estimators=1000, random_state=42),\n",
       "  RandomForestRegressor(max_depth=12, n_estimators=1000, random_state=42),\n",
       "  RandomForestRegressor(max_depth=12, n_estimators=1000, random_state=42)],\n",
       " 'test_r2': array([0.6235908 , 0.70780842, 0.64904627, 0.64885628, 0.67727657]),\n",
       " 'test_neg_median_absolute_error': array([-17405.32547601, -16525.87326463, -18084.61432631, -18260.30209616,\n",
       "        -17812.59089076]),\n",
       " 'test_neg_mean_absolute_error': array([-32682.57961627, -31431.59414433, -32432.63035332, -33300.55064741,\n",
       "        -30605.12199789]),\n",
       " 'test_neg_mean_absolute_percentage_error': array([-0.18072246, -0.16272307, -0.1592468 , -0.18865823, -0.1678458 ]),\n",
       " 'test_neg_mean_squared_log_error': array([-0.06382101, -0.05229485, -0.05172049, -0.06951983, -0.05570222]),\n",
       " 'test_neg_root_mean_squared_error': array([-56782.60157614, -52572.75068383, -54146.72671859, -55776.75415627,\n",
       "        -49871.46472916])}"
      ]
     },
     "execution_count": 544,
     "metadata": {},
     "output_type": "execute_result"
    }
   ],
   "source": [
    "\n",
    "\n",
    "cv_results=cross_validate(clf, x_test_scaled,np.array(y_test),scoring = (\n",
    "\"r2\",\n",
    "\"neg_median_absolute_error\",\n",
    "\"neg_mean_absolute_error\",\n",
    "\"neg_mean_absolute_percentage_error\",\n",
    "\"neg_mean_squared_log_error\",\n",
    "\"neg_root_mean_squared_error\",\n",
    "), return_estimator=True)\n",
    "cv_results"
   ]
  },
  {
   "cell_type": "code",
   "execution_count": 545,
   "id": "5eb1df18-1f84-4ea1-a298-6654ef401c6b",
   "metadata": {},
   "outputs": [
    {
     "name": "stdout",
     "output_type": "stream",
     "text": [
      "[RandomForestRegressor(max_depth=12, n_estimators=1000, random_state=42), RandomForestRegressor(max_depth=12, n_estimators=1000, random_state=42), RandomForestRegressor(max_depth=12, n_estimators=1000, random_state=42), RandomForestRegressor(max_depth=12, n_estimators=1000, random_state=42), RandomForestRegressor(max_depth=12, n_estimators=1000, random_state=42)]\n"
     ]
    }
   ],
   "source": [
    "rfc_fit_clf = cv_results['estimator']\n",
    "print(rfc_fit_clf)"
   ]
  },
  {
   "cell_type": "code",
   "execution_count": 546,
   "id": "6eea4b0a-6c8f-4567-b69e-61aaf4ebe6e5",
   "metadata": {},
   "outputs": [],
   "source": [
    "y_pred=rfc_fit_clf[1].predict(x_test_scaled)"
   ]
  },
  {
   "cell_type": "code",
   "execution_count": 547,
   "id": "af7f3463-a23e-4750-b115-3f87a0f7b760",
   "metadata": {},
   "outputs": [
    {
     "data": {
      "text/plain": [
       "0.8731703168611022"
      ]
     },
     "execution_count": 547,
     "metadata": {},
     "output_type": "execute_result"
    }
   ],
   "source": [
    "r2= r2_score(y_test,y_pred)\n",
    "r2"
   ]
  },
  {
   "cell_type": "code",
   "execution_count": 548,
   "id": "7f1df722-3193-4103-b26e-bab967060c6b",
   "metadata": {},
   "outputs": [
    {
     "data": {
      "text/plain": [
       "<property at 0x1f43ede74f0>"
      ]
     },
     "execution_count": 548,
     "metadata": {},
     "output_type": "execute_result"
    }
   ],
   "source": [
    "RandomForestRegressor.feature_importances_"
   ]
  },
  {
   "cell_type": "code",
   "execution_count": 549,
   "id": "24e5752b-acb3-40eb-b1ea-2b41842a33be",
   "metadata": {},
   "outputs": [],
   "source": [
    "Y_test=rfc_fit_clf[1].predict(scaler.transform(X_test))"
   ]
  },
  {
   "cell_type": "code",
   "execution_count": 550,
   "id": "90f7b82f-fcc6-4884-9112-010d052af0e6",
   "metadata": {},
   "outputs": [],
   "source": [
    "Y_test=pd.DataFrame(Y_test,columns=['Price'])"
   ]
  },
  {
   "cell_type": "code",
   "execution_count": 551,
   "id": "ed015aa4-0a86-491d-81f7-6f67e2924c60",
   "metadata": {},
   "outputs": [],
   "source": [
    "Y_test['Id']=test['Id']"
   ]
  },
  {
   "cell_type": "code",
   "execution_count": 552,
   "id": "ca2d1b4f-3707-42f6-bab2-bd0fd88ad179",
   "metadata": {},
   "outputs": [],
   "source": [
    "Y_test.to_csv('price_csv.csv', encoding='utf8', header=True )"
   ]
  },
  {
   "cell_type": "code",
   "execution_count": null,
   "id": "fd1b9a77-5736-43c1-acc7-07da1ad775bf",
   "metadata": {},
   "outputs": [],
   "source": []
  }
 ],
 "metadata": {
  "kernelspec": {
   "display_name": "Python 3 (ipykernel)",
   "language": "python",
   "name": "python3"
  },
  "language_info": {
   "codemirror_mode": {
    "name": "ipython",
    "version": 3
   },
   "file_extension": ".py",
   "mimetype": "text/x-python",
   "name": "python",
   "nbconvert_exporter": "python",
   "pygments_lexer": "ipython3",
   "version": "3.9.12"
  }
 },
 "nbformat": 4,
 "nbformat_minor": 5
}
